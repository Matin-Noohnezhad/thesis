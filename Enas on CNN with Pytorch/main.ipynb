{
 "cells": [
  {
   "cell_type": "code",
   "execution_count": 1,
   "metadata": {},
   "outputs": [],
   "source": [
    "import time\n",
    "\n",
    "import torch\n",
    "\n",
    "from childnet import ChildNetwork\n",
    "from cifar10_training import Cifar10Trainer\n",
    "from controller import ControllerNetwork\n",
    "from controller_training import ControllerTrainer"
   ]
  },
  {
   "cell_type": "code",
   "execution_count": 2,
   "outputs": [],
   "source": [
    "outer_iterations = 310  #310\n",
    "controller_iterations = 2000  #2000\n",
    "child_iterations = 400  #400\n",
    "##\n",
    "hidden_size = 100\n",
    "num_layer_types = 4\n",
    "num_layers = 5\n",
    "num_filters = 32\n",
    "num_classes = 10  # cifar-10 dataset\n",
    "batch_size = 128\n",
    "# grad_clip_value = 0.15\n",
    "##\n",
    "val_accuracy_list = []\n",
    "\n",
    "train_time_list = []"
   ],
   "metadata": {
    "collapsed": false,
    "pycharm": {
     "name": "#%%\n"
    }
   }
  },
  {
   "cell_type": "code",
   "execution_count": 3,
   "metadata": {},
   "outputs": [
    {
     "name": "stdout",
     "output_type": "stream",
     "text": [
      "what is the device? cpu or gpu ?  cuda\n",
      "Files already downloaded and verified\n",
      "Files already downloaded and verified\n"
     ]
    }
   ],
   "source": [
    "cifar10_trainer = Cifar10Trainer(batch_size=batch_size)\n",
    "controller = ControllerNetwork(hidden_size, num_layers, num_layer_types)\n",
    "controller_trainer = ControllerTrainer(controller, cifar10_trainer, num_hidden_layers=num_layers,\n",
    "                                       num_filters=num_filters,\n",
    "                                       num_classes=num_classes, batch_size=batch_size)\n",
    "load_previous_network_weights = None"
   ]
  },
  {
   "cell_type": "code",
   "execution_count": 4,
   "metadata": {},
   "outputs": [
    {
     "name": "stdout",
     "output_type": "stream",
     "text": [
      "ITERATION NUMBER 1\n",
      "Controller is sampling architecture...\n",
      "tensor([[[0.2610, 0.2406, 0.2439, 0.2544]],\n",
      "\n",
      "        [[0.2590, 0.2405, 0.2454, 0.2552]],\n",
      "\n",
      "        [[0.2615, 0.2386, 0.2447, 0.2553]],\n",
      "\n",
      "        [[0.2597, 0.2409, 0.2449, 0.2544]],\n",
      "\n",
      "        [[0.2605, 0.2404, 0.2444, 0.2547]],\n",
      "\n",
      "        [[0.2610, 0.2410, 0.2451, 0.2529]],\n",
      "\n",
      "        [[0.2610, 0.2409, 0.2428, 0.2553]],\n",
      "\n",
      "        [[0.2600, 0.2420, 0.2448, 0.2532]],\n",
      "\n",
      "        [[0.2610, 0.2388, 0.2449, 0.2552]],\n",
      "\n",
      "        [[0.2609, 0.2412, 0.2419, 0.2559]]], grad_fn=<ExpBackward>)\n",
      "tensor([[[0., 0., 0., 1.]],\n",
      "\n",
      "        [[0., 0., 0., 0.]],\n",
      "\n",
      "        [[0., 0., 0., 1.]],\n",
      "\n",
      "        [[0., 0., 0., 0.]],\n",
      "\n",
      "        [[1., 0., 0., 0.]],\n",
      "\n",
      "        [[0., 0., 0., 0.]],\n",
      "\n",
      "        [[0., 0., 1., 0.]],\n",
      "\n",
      "        [[0., 0., 0., 0.]],\n",
      "\n",
      "        [[0., 1., 0., 0.]],\n",
      "\n",
      "        [[0., 0., 0., 0.]]])\n",
      "Creating new child network...\n",
      "Training child network...\n",
      "The training time for 400 steps is: 33.91 seconds\n",
      "The validation time on whole validation set is 1.22 seconds\n",
      "The validation set accuracy of the sampled network is: 43.14 %\n",
      "Saving child network's weights...\n",
      "Training controller network\n",
      "The time for training the controller for 2000 steps is: 102.75 seconds\n",
      "total time of 1 outer iteration is 139.83\n",
      "##############################################\n",
      "##############################################\n",
      "ITERATION NUMBER 2\n",
      "Controller is sampling architecture...\n",
      "tensor([[[0.2589, 0.2453, 0.2404, 0.2555]],\n",
      "\n",
      "        [[0.2569, 0.2479, 0.2395, 0.2557]],\n",
      "\n",
      "        [[0.2564, 0.2484, 0.2380, 0.2572]],\n",
      "\n",
      "        [[0.2567, 0.2500, 0.2368, 0.2564]],\n",
      "\n",
      "        [[0.2558, 0.2485, 0.2386, 0.2570]],\n",
      "\n",
      "        [[0.2597, 0.2476, 0.2369, 0.2558]],\n",
      "\n",
      "        [[0.2568, 0.2496, 0.2379, 0.2556]],\n",
      "\n",
      "        [[0.2572, 0.2522, 0.2326, 0.2580]],\n",
      "\n",
      "        [[0.2564, 0.2504, 0.2351, 0.2581]],\n",
      "\n",
      "        [[0.2582, 0.2505, 0.2360, 0.2554]]], grad_fn=<ExpBackward>)\n",
      "tensor([[[0., 0., 0., 1.]],\n",
      "\n",
      "        [[0., 0., 0., 0.]],\n",
      "\n",
      "        [[0., 0., 0., 1.]],\n",
      "\n",
      "        [[0., 0., 0., 0.]],\n",
      "\n",
      "        [[1., 0., 0., 0.]],\n",
      "\n",
      "        [[0., 0., 0., 0.]],\n",
      "\n",
      "        [[1., 0., 0., 0.]],\n",
      "\n",
      "        [[0., 0., 0., 0.]],\n",
      "\n",
      "        [[1., 0., 0., 0.]],\n",
      "\n",
      "        [[0., 0., 0., 0.]]])\n",
      "Creating new child network...\n",
      "Training child network...\n",
      "The training time for 400 steps is: 29.84 seconds\n",
      "The validation time on whole validation set is 1.15 seconds\n",
      "The validation set accuracy of the sampled network is: 45.68 %\n",
      "Saving child network's weights...\n",
      "Training controller network\n"
     ]
    },
    {
     "name": "stderr",
     "output_type": "stream",
     "text": [
      "Traceback (most recent call last):\n",
      "  File \"/usr/lib/python3.9/multiprocessing/queues.py\", line 251, in _feed\n",
      "    send_bytes(obj)\n",
      "  File \"/usr/lib/python3.9/multiprocessing/connection.py\", line 205, in send_bytes\n",
      "    self._send_bytes(m[offset:offset + size])\n",
      "  File \"/usr/lib/python3.9/multiprocessing/connection.py\", line 416, in _send_bytes\n",
      "    self._send(header + buf)\n",
      "  File \"/usr/lib/python3.9/multiprocessing/connection.py\", line 373, in _send\n",
      "    n = write(self._handle, buf)\n",
      "BrokenPipeError: [Errno 32] Broken pipe\n"
     ]
    },
    {
     "ename": "KeyboardInterrupt",
     "evalue": "",
     "output_type": "error",
     "traceback": [
      "\u001B[0;31m---------------------------------------------------------------------------\u001B[0m",
      "\u001B[0;31mKeyboardInterrupt\u001B[0m                         Traceback (most recent call last)",
      "\u001B[0;32m<ipython-input-4-bdf8b313ecb4>\u001B[0m in \u001B[0;36m<module>\u001B[0;34m\u001B[0m\n\u001B[1;32m     33\u001B[0m     \u001B[0;31m# print('multiplier is = ', multiplier)\u001B[0m\u001B[0;34m\u001B[0m\u001B[0;34m\u001B[0m\u001B[0;34m\u001B[0m\u001B[0m\n\u001B[1;32m     34\u001B[0m     \u001B[0;31m# controller_trainer.train(num_of_steps=controller_iterations, grad_clip_value=grad_clip_value)\u001B[0m\u001B[0;34m\u001B[0m\u001B[0;34m\u001B[0m\u001B[0;34m\u001B[0m\u001B[0m\n\u001B[0;32m---> 35\u001B[0;31m     \u001B[0mcontroller_trainer\u001B[0m\u001B[0;34m.\u001B[0m\u001B[0mtrain\u001B[0m\u001B[0;34m(\u001B[0m\u001B[0mnum_of_steps\u001B[0m\u001B[0;34m=\u001B[0m\u001B[0mcontroller_iterations\u001B[0m\u001B[0;34m)\u001B[0m\u001B[0;34m\u001B[0m\u001B[0;34m\u001B[0m\u001B[0m\n\u001B[0m\u001B[1;32m     36\u001B[0m     \u001B[0;31m##############################################\u001B[0m\u001B[0;34m\u001B[0m\u001B[0;34m\u001B[0m\u001B[0;34m\u001B[0m\u001B[0m\n\u001B[1;32m     37\u001B[0m     \u001B[0mend\u001B[0m \u001B[0;34m=\u001B[0m \u001B[0mtime\u001B[0m\u001B[0;34m.\u001B[0m\u001B[0mtime\u001B[0m\u001B[0;34m(\u001B[0m\u001B[0;34m)\u001B[0m\u001B[0;34m\u001B[0m\u001B[0;34m\u001B[0m\u001B[0m\n",
      "\u001B[0;32m~/PycharmProjects/pythonProject2/controller_training.py\u001B[0m in \u001B[0;36mtrain\u001B[0;34m(self, num_of_steps, grad_clip_value)\u001B[0m\n\u001B[1;32m     76\u001B[0m                     \u001B[0;31m# predictions.append(outputs)\u001B[0m\u001B[0;34m\u001B[0m\u001B[0;34m\u001B[0m\u001B[0;34m\u001B[0m\u001B[0m\n\u001B[1;32m     77\u001B[0m                     \u001B[0mtotal\u001B[0m \u001B[0;34m=\u001B[0m \u001B[0mlabels\u001B[0m\u001B[0;34m.\u001B[0m\u001B[0msize\u001B[0m\u001B[0;34m(\u001B[0m\u001B[0;36m0\u001B[0m\u001B[0;34m)\u001B[0m\u001B[0;34m\u001B[0m\u001B[0;34m\u001B[0m\u001B[0m\n\u001B[0;32m---> 78\u001B[0;31m                     \u001B[0mcorrect\u001B[0m \u001B[0;34m=\u001B[0m \u001B[0;34m(\u001B[0m\u001B[0mpredicted\u001B[0m \u001B[0;34m==\u001B[0m \u001B[0mlabels\u001B[0m\u001B[0;34m)\u001B[0m\u001B[0;34m.\u001B[0m\u001B[0msum\u001B[0m\u001B[0;34m(\u001B[0m\u001B[0;34m)\u001B[0m\u001B[0;34m.\u001B[0m\u001B[0mitem\u001B[0m\u001B[0;34m(\u001B[0m\u001B[0;34m)\u001B[0m\u001B[0;34m\u001B[0m\u001B[0;34m\u001B[0m\u001B[0m\n\u001B[0m\u001B[1;32m     79\u001B[0m                     \u001B[0mval_accuracy\u001B[0m \u001B[0;34m=\u001B[0m \u001B[0;36m100\u001B[0m \u001B[0;34m*\u001B[0m \u001B[0mcorrect\u001B[0m \u001B[0;34m/\u001B[0m \u001B[0mtotal\u001B[0m\u001B[0;34m\u001B[0m\u001B[0;34m\u001B[0m\u001B[0m\n\u001B[1;32m     80\u001B[0m                 \u001B[0mself\u001B[0m\u001B[0;34m.\u001B[0m\u001B[0mval_accuracy_list\u001B[0m\u001B[0;34m.\u001B[0m\u001B[0mappend\u001B[0m\u001B[0;34m(\u001B[0m\u001B[0mval_accuracy\u001B[0m\u001B[0;34m)\u001B[0m\u001B[0;34m\u001B[0m\u001B[0;34m\u001B[0m\u001B[0m\n",
      "\u001B[0;31mKeyboardInterrupt\u001B[0m: "
     ]
    }
   ],
   "source": [
    "for i in range(outer_iterations):\n",
    "    start = time.time()\n",
    "    print(\"ITERATION NUMBER %d\" % (i + 1))\n",
    "    ############## sample model ##############\n",
    "    print('Controller is sampling architecture...')\n",
    "    soft_1, soft_2, layers_types, skip_connections = controller()\n",
    "    #\n",
    "    print(torch.exp(soft_1))\n",
    "    print(layers_types)\n",
    "    # print(torch.exp(soft_2))\n",
    "    # print(skip_connections)\n",
    "    ############## initialize weights ##############\n",
    "    print('Creating new child network...')\n",
    "    if i == 0:\n",
    "        load_previous_network_weights = False\n",
    "    child_net = ChildNetwork(layers_types, skip_connections, load_previous_network_weights,\n",
    "                             num_hidden_layers=num_layers,\n",
    "                             num_filters=num_filters, num_classes=num_classes)\n",
    "    load_previous_network_weights = True\n",
    "\n",
    "    ############## train model ##############\n",
    "    print('Training child network...')\n",
    "    # cifar10_trainer.shuffle_and_load_data_again()\n",
    "    val_accuracy, train_time = cifar10_trainer.train(child_net, num_of_steps=child_iterations)\n",
    "    val_accuracy_list.append(val_accuracy)\n",
    "    train_time_list.append(train_time)\n",
    "    ############## train controller ##############\n",
    "    print('Training controller network')\n",
    "    # baseline = weighted_moving_average(val_accuracy_list)\n",
    "    # multiplier = val_accuracy - baseline  # (reward - baseline)\n",
    "    # print('val_accuracy is = ', val_accuracy)\n",
    "    # print('baseline is = ', baseline)\n",
    "    # print('multiplier is = ', multiplier)\n",
    "    # controller_trainer.train(num_of_steps=controller_iterations, grad_clip_value=grad_clip_value)\n",
    "    controller_trainer.train(num_of_steps=controller_iterations)\n",
    "    ##############################################\n",
    "    end = time.time()\n",
    "    total_time = end - start\n",
    "    print('total time of 1 outer iteration is {:.2f}'.format(total_time))\n",
    "    print('##############################################')\n",
    "    print('##############################################')"
   ]
  },
  {
   "cell_type": "code",
   "execution_count": null,
   "outputs": [],
   "source": [
    "import matplotlib.pyplot as plt\n",
    "\n",
    "plt.plot(val_accuracy_list)\n",
    "plt.figure()\n",
    "plt.plot(train_time_list)"
   ],
   "metadata": {
    "collapsed": false,
    "pycharm": {
     "name": "#%%\n"
    }
   }
  },
  {
   "cell_type": "code",
   "execution_count": null,
   "outputs": [],
   "source": [
    "soft_1, soft_2, layers_types, skip_connections = controller()\n",
    "print(skip_connections)\n",
    "print(torch.exp(soft_2))"
   ],
   "metadata": {
    "collapsed": false,
    "pycharm": {
     "name": "#%%\n"
    }
   }
  },
  {
   "cell_type": "code",
   "execution_count": null,
   "outputs": [],
   "source": [],
   "metadata": {
    "collapsed": false,
    "pycharm": {
     "name": "#%%\n"
    }
   }
  }
 ],
 "metadata": {
  "kernelspec": {
   "display_name": "Python 3",
   "language": "python",
   "name": "python3"
  },
  "language_info": {
   "codemirror_mode": {
    "name": "ipython",
    "version": 3
   },
   "file_extension": ".py",
   "mimetype": "text/x-python",
   "name": "python",
   "nbconvert_exporter": "python",
   "pygments_lexer": "ipython3",
   "version": "3.9.5"
  }
 },
 "nbformat": 4,
 "nbformat_minor": 4
}