{
 "cells": [
  {
   "cell_type": "code",
   "execution_count": 1,
   "metadata": {},
   "outputs": [],
   "source": [
    "import tensorflow as tf\n",
    "from tensorflow.keras import datasets, models\n",
    "from tensorflow.keras.layers import Dense, Conv2D, Flatten, Dropout, MaxPooling2D, BatchNormalization\n",
    "from tensorflow import keras\n",
    "import numpy as np\n",
    "import os\n",
    "\n",
    "os.environ[\"CUDA_VISIBLE_DEVICES\"] = \"-1\""
   ]
  },
  {
   "cell_type": "code",
   "execution_count": 2,
   "metadata": {},
   "outputs": [],
   "source": [
    "(x_train, y_train), (x_test, y_test) = datasets.cifar10.load_data()"
   ]
  },
  {
   "cell_type": "code",
   "execution_count": 3,
   "metadata": {},
   "outputs": [],
   "source": [
    "x_train = x_train.reshape(x_train.shape[0],-1) #reshape 2D image into a 1D vector\n",
    "x_test = x_test.reshape(x_test.shape[0], -1) #reshape 2D image into a 1D vector\n",
    "x_train = x_train.astype('float32')\n",
    "x_test = x_test.astype('float32')\n",
    "# x_train /= 255\n",
    "# x_test /= 255\n",
    "mean = np.mean(x_train)\n",
    "std = np.std(x_train)\n",
    "x_train = (x_train-mean)/(std+1e-7)\n",
    "x_test = (x_test-mean)/(std+1e-7)\n"
   ]
  },
  {
   "cell_type": "code",
   "execution_count": 4,
   "metadata": {},
   "outputs": [],
   "source": [
    "y_train = keras.utils.to_categorical(y_train, 10)\n",
    "y_test = keras.utils.to_categorical(y_test, 10)"
   ]
  },
  {
   "cell_type": "code",
   "execution_count": 5,
   "metadata": {},
   "outputs": [],
   "source": [
    "def build(input_shape, no_classes):\n",
    "    model = models.Sequential()\n",
    "    model.add(Dense(512, activation='relu', input_shape=input_shape))\n",
    "    model.add(Dropout(0.35))\n",
    "    model.add(BatchNormalization())\n",
    "    model.add(Dense(512, activation='relu'))\n",
    "    model.add(Dropout(0.35))\n",
    "    model.add(BatchNormalization())\n",
    "    ##\n",
    "    model.add(Dense(256, activation='relu'))\n",
    "    model.add(Dropout(0.25))\n",
    "    model.add(BatchNormalization())\n",
    "    model.add(Dense(256, activation='relu'))\n",
    "    model.add(Dropout(0.25))\n",
    "    model.add(BatchNormalization())\n",
    "    ##\n",
    "    model.add(Dense(128, activation='relu'))\n",
    "    model.add(Dropout(0.15))\n",
    "    model.add(BatchNormalization())\n",
    "    model.add(Dense(128, activation='relu'))\n",
    "    model.add(Dropout(0.15))\n",
    "    model.add(BatchNormalization())\n",
    "    ##\n",
    "    model.add(Dense(100, activation='relu'))\n",
    "    model.add(BatchNormalization())\n",
    "    model.add(Dense(no_classes, activation='softmax'))\n",
    "    ##\n",
    "    ##\n",
    "    return model"
   ]
  },
  {
   "cell_type": "code",
   "execution_count": 6,
   "metadata": {},
   "outputs": [],
   "source": [
    "model = build((x_train.shape[1],), 10)"
   ]
  },
  {
   "cell_type": "code",
   "execution_count": 7,
   "metadata": {},
   "outputs": [
    {
     "name": "stdout",
     "output_type": "stream",
     "text": [
      "Model: \"sequential\"\n",
      "_________________________________________________________________\n",
      "Layer (type)                 Output Shape              Param #   \n",
      "=================================================================\n",
      "dense (Dense)                (None, 512)               1573376   \n",
      "_________________________________________________________________\n",
      "dropout (Dropout)            (None, 512)               0         \n",
      "_________________________________________________________________\n",
      "batch_normalization (BatchNo (None, 512)               2048      \n",
      "_________________________________________________________________\n",
      "dense_1 (Dense)              (None, 512)               262656    \n",
      "_________________________________________________________________\n",
      "dropout_1 (Dropout)          (None, 512)               0         \n",
      "_________________________________________________________________\n",
      "batch_normalization_1 (Batch (None, 512)               2048      \n",
      "_________________________________________________________________\n",
      "dense_2 (Dense)              (None, 256)               131328    \n",
      "_________________________________________________________________\n",
      "dropout_2 (Dropout)          (None, 256)               0         \n",
      "_________________________________________________________________\n",
      "batch_normalization_2 (Batch (None, 256)               1024      \n",
      "_________________________________________________________________\n",
      "dense_3 (Dense)              (None, 256)               65792     \n",
      "_________________________________________________________________\n",
      "dropout_3 (Dropout)          (None, 256)               0         \n",
      "_________________________________________________________________\n",
      "batch_normalization_3 (Batch (None, 256)               1024      \n",
      "_________________________________________________________________\n",
      "dense_4 (Dense)              (None, 128)               32896     \n",
      "_________________________________________________________________\n",
      "dropout_4 (Dropout)          (None, 128)               0         \n",
      "_________________________________________________________________\n",
      "batch_normalization_4 (Batch (None, 128)               512       \n",
      "_________________________________________________________________\n",
      "dense_5 (Dense)              (None, 128)               16512     \n",
      "_________________________________________________________________\n",
      "dropout_5 (Dropout)          (None, 128)               0         \n",
      "_________________________________________________________________\n",
      "batch_normalization_5 (Batch (None, 128)               512       \n",
      "_________________________________________________________________\n",
      "dense_6 (Dense)              (None, 100)               12900     \n",
      "_________________________________________________________________\n",
      "batch_normalization_6 (Batch (None, 100)               400       \n",
      "_________________________________________________________________\n",
      "dense_7 (Dense)              (None, 10)                1010      \n",
      "=================================================================\n",
      "Total params: 2,104,038\n",
      "Trainable params: 2,100,254\n",
      "Non-trainable params: 3,784\n",
      "_________________________________________________________________\n"
     ]
    }
   ],
   "source": [
    "model.summary()"
   ]
  },
  {
   "cell_type": "code",
   "execution_count": 8,
   "metadata": {},
   "outputs": [],
   "source": [
    "model.compile(loss='categorical_crossentropy', optimizer='adam', metrics=['accuracy'])"
   ]
  },
  {
   "cell_type": "code",
   "execution_count": 9,
   "metadata": {},
   "outputs": [],
   "source": [
    "# callbacks=[keras.callbacks.TensorBoard(log_dir='./logs2')]"
   ]
  },
  {
   "cell_type": "code",
   "execution_count": 10,
   "metadata": {},
   "outputs": [
    {
     "name": "stdout",
     "output_type": "stream",
     "text": [
      "Epoch 1/50\n",
      "391/391 [==============================] - 8s 20ms/step - loss: 2.0791 - accuracy: 0.2538 - val_loss: 1.7235 - val_accuracy: 0.3765\n",
      "Epoch 2/50\n",
      "391/391 [==============================] - 7s 18ms/step - loss: 1.7710 - accuracy: 0.3583 - val_loss: 1.5978 - val_accuracy: 0.4282\n",
      "Epoch 3/50\n",
      "391/391 [==============================] - 8s 20ms/step - loss: 1.6656 - accuracy: 0.4005 - val_loss: 1.5100 - val_accuracy: 0.4592\n",
      "Epoch 4/50\n",
      "391/391 [==============================] - 8s 20ms/step - loss: 1.5930 - accuracy: 0.4298 - val_loss: 1.4656 - val_accuracy: 0.4722\n",
      "Epoch 5/50\n",
      "391/391 [==============================] - 8s 20ms/step - loss: 1.5427 - accuracy: 0.4493 - val_loss: 1.4279 - val_accuracy: 0.4889\n",
      "Epoch 6/50\n",
      "391/391 [==============================] - 8s 19ms/step - loss: 1.5033 - accuracy: 0.4643 - val_loss: 1.3958 - val_accuracy: 0.4985\n",
      "Epoch 7/50\n",
      "391/391 [==============================] - 7s 19ms/step - loss: 1.4673 - accuracy: 0.4783 - val_loss: 1.3792 - val_accuracy: 0.5082\n",
      "Epoch 8/50\n",
      "391/391 [==============================] - 8s 20ms/step - loss: 1.4369 - accuracy: 0.4898 - val_loss: 1.3556 - val_accuracy: 0.5194\n",
      "Epoch 9/50\n",
      "391/391 [==============================] - 8s 20ms/step - loss: 1.4068 - accuracy: 0.5028 - val_loss: 1.3317 - val_accuracy: 0.5275\n",
      "Epoch 10/50\n",
      "391/391 [==============================] - 8s 20ms/step - loss: 1.3835 - accuracy: 0.5101 - val_loss: 1.3225 - val_accuracy: 0.5322\n",
      "Epoch 11/50\n",
      "391/391 [==============================] - 7s 19ms/step - loss: 1.3555 - accuracy: 0.5220 - val_loss: 1.3020 - val_accuracy: 0.5417\n",
      "Epoch 12/50\n",
      "391/391 [==============================] - 8s 19ms/step - loss: 1.3392 - accuracy: 0.5255 - val_loss: 1.2918 - val_accuracy: 0.5461\n",
      "Epoch 13/50\n",
      "391/391 [==============================] - 8s 21ms/step - loss: 1.3165 - accuracy: 0.5390 - val_loss: 1.2899 - val_accuracy: 0.5475\n",
      "Epoch 14/50\n",
      "391/391 [==============================] - 8s 20ms/step - loss: 1.2945 - accuracy: 0.5455 - val_loss: 1.2755 - val_accuracy: 0.5469\n",
      "Epoch 15/50\n",
      "391/391 [==============================] - 8s 20ms/step - loss: 1.2816 - accuracy: 0.5482 - val_loss: 1.2770 - val_accuracy: 0.5468\n",
      "Epoch 16/50\n",
      "391/391 [==============================] - 8s 20ms/step - loss: 1.2599 - accuracy: 0.5569 - val_loss: 1.2663 - val_accuracy: 0.5538\n",
      "Epoch 17/50\n",
      "391/391 [==============================] - 7s 19ms/step - loss: 1.2455 - accuracy: 0.5634 - val_loss: 1.2529 - val_accuracy: 0.5554\n",
      "Epoch 18/50\n",
      "391/391 [==============================] - 7s 18ms/step - loss: 1.2268 - accuracy: 0.5671 - val_loss: 1.2772 - val_accuracy: 0.5494\n",
      "Epoch 19/50\n",
      "391/391 [==============================] - 7s 19ms/step - loss: 1.2114 - accuracy: 0.5759 - val_loss: 1.2615 - val_accuracy: 0.5548\n",
      "Epoch 20/50\n",
      "391/391 [==============================] - 7s 18ms/step - loss: 1.1930 - accuracy: 0.5818 - val_loss: 1.2383 - val_accuracy: 0.5628\n",
      "Epoch 21/50\n",
      "391/391 [==============================] - 7s 19ms/step - loss: 1.1833 - accuracy: 0.5850 - val_loss: 1.2450 - val_accuracy: 0.5615\n",
      "Epoch 22/50\n",
      "391/391 [==============================] - 7s 19ms/step - loss: 1.1630 - accuracy: 0.5954 - val_loss: 1.2345 - val_accuracy: 0.5631\n",
      "Epoch 23/50\n",
      "391/391 [==============================] - 7s 19ms/step - loss: 1.1464 - accuracy: 0.5996 - val_loss: 1.2318 - val_accuracy: 0.5682\n",
      "Epoch 24/50\n",
      "391/391 [==============================] - 7s 18ms/step - loss: 1.1382 - accuracy: 0.5989 - val_loss: 1.2222 - val_accuracy: 0.5687\n",
      "Epoch 25/50\n",
      "391/391 [==============================] - 7s 18ms/step - loss: 1.1228 - accuracy: 0.6077 - val_loss: 1.2167 - val_accuracy: 0.5702\n",
      "Epoch 26/50\n",
      "391/391 [==============================] - 7s 18ms/step - loss: 1.1162 - accuracy: 0.6128 - val_loss: 1.2274 - val_accuracy: 0.5689\n",
      "Epoch 27/50\n",
      "391/391 [==============================] - 7s 18ms/step - loss: 1.0971 - accuracy: 0.6134 - val_loss: 1.2202 - val_accuracy: 0.5735\n",
      "Epoch 28/50\n",
      "391/391 [==============================] - 7s 18ms/step - loss: 1.0858 - accuracy: 0.6219 - val_loss: 1.2162 - val_accuracy: 0.5760\n",
      "Epoch 29/50\n",
      "391/391 [==============================] - 7s 18ms/step - loss: 1.0711 - accuracy: 0.6258 - val_loss: 1.2159 - val_accuracy: 0.5699\n",
      "Epoch 30/50\n",
      "391/391 [==============================] - 7s 18ms/step - loss: 1.0640 - accuracy: 0.6285 - val_loss: 1.2084 - val_accuracy: 0.5744\n",
      "Epoch 31/50\n",
      "391/391 [==============================] - 7s 18ms/step - loss: 1.0545 - accuracy: 0.6321 - val_loss: 1.2059 - val_accuracy: 0.5776\n",
      "Epoch 32/50\n",
      "391/391 [==============================] - 7s 19ms/step - loss: 1.0399 - accuracy: 0.6387 - val_loss: 1.2090 - val_accuracy: 0.5743\n",
      "Epoch 33/50\n",
      "391/391 [==============================] - 7s 19ms/step - loss: 1.0322 - accuracy: 0.6425 - val_loss: 1.1979 - val_accuracy: 0.5756\n",
      "Epoch 34/50\n",
      "391/391 [==============================] - 7s 18ms/step - loss: 1.0173 - accuracy: 0.6460 - val_loss: 1.2113 - val_accuracy: 0.5796\n",
      "Epoch 35/50\n",
      "391/391 [==============================] - 7s 18ms/step - loss: 1.0127 - accuracy: 0.6455 - val_loss: 1.2112 - val_accuracy: 0.5759\n",
      "Epoch 36/50\n",
      "391/391 [==============================] - 7s 18ms/step - loss: 1.0012 - accuracy: 0.6504 - val_loss: 1.2154 - val_accuracy: 0.5774\n",
      "Epoch 37/50\n",
      "391/391 [==============================] - 7s 19ms/step - loss: 0.9948 - accuracy: 0.6541 - val_loss: 1.2056 - val_accuracy: 0.5822\n",
      "Epoch 38/50\n",
      "391/391 [==============================] - 7s 19ms/step - loss: 0.9860 - accuracy: 0.6552 - val_loss: 1.2177 - val_accuracy: 0.5767\n",
      "Epoch 39/50\n",
      "391/391 [==============================] - 7s 19ms/step - loss: 0.9733 - accuracy: 0.6619 - val_loss: 1.2191 - val_accuracy: 0.5757\n",
      "Epoch 40/50\n",
      "391/391 [==============================] - 7s 18ms/step - loss: 0.9696 - accuracy: 0.6601 - val_loss: 1.1987 - val_accuracy: 0.5833\n",
      "Epoch 41/50\n",
      "391/391 [==============================] - 7s 18ms/step - loss: 0.9628 - accuracy: 0.6631 - val_loss: 1.2011 - val_accuracy: 0.5829\n",
      "Epoch 42/50\n",
      "391/391 [==============================] - 7s 18ms/step - loss: 0.9457 - accuracy: 0.6705 - val_loss: 1.2178 - val_accuracy: 0.5853\n",
      "Epoch 43/50\n",
      "391/391 [==============================] - 7s 18ms/step - loss: 0.9485 - accuracy: 0.6702 - val_loss: 1.2189 - val_accuracy: 0.5818\n",
      "Epoch 44/50\n",
      "391/391 [==============================] - 7s 18ms/step - loss: 0.9357 - accuracy: 0.6754 - val_loss: 1.2049 - val_accuracy: 0.5859\n",
      "Epoch 45/50\n",
      "391/391 [==============================] - 7s 19ms/step - loss: 0.9242 - accuracy: 0.6776 - val_loss: 1.2117 - val_accuracy: 0.5838\n",
      "Epoch 46/50\n",
      "391/391 [==============================] - 7s 19ms/step - loss: 0.9217 - accuracy: 0.6798 - val_loss: 1.2043 - val_accuracy: 0.5877\n",
      "Epoch 47/50\n",
      "391/391 [==============================] - 7s 18ms/step - loss: 0.9178 - accuracy: 0.6825 - val_loss: 1.2116 - val_accuracy: 0.5818\n",
      "Epoch 48/50\n",
      "391/391 [==============================] - 7s 18ms/step - loss: 0.9045 - accuracy: 0.6848 - val_loss: 1.2114 - val_accuracy: 0.5850\n",
      "Epoch 49/50\n",
      "391/391 [==============================] - 7s 18ms/step - loss: 0.8931 - accuracy: 0.6881 - val_loss: 1.2190 - val_accuracy: 0.5830\n",
      "Epoch 50/50\n",
      "391/391 [==============================] - 7s 18ms/step - loss: 0.8892 - accuracy: 0.6913 - val_loss: 1.2302 - val_accuracy: 0.5826\n"
     ]
    },
    {
     "data": {
      "text/plain": [
       "<tensorflow.python.keras.callbacks.History at 0x7f6d1c152070>"
      ]
     },
     "execution_count": 10,
     "metadata": {},
     "output_type": "execute_result"
    }
   ],
   "source": [
    "# model.fit(x_train, y_train, batch_size=128, epochs=50, verbose=1, validation_split=0.2, callbacks=callbacks)\n",
    "model.fit(x_train, y_train, batch_size=128, epochs=50, verbose=1, validation_data=(x_test, y_test))"
   ]
  },
  {
   "cell_type": "code",
   "execution_count": 11,
   "metadata": {
    "scrolled": true
   },
   "outputs": [
    {
     "name": "stdout",
     "output_type": "stream",
     "text": [
      "1563/1563 [==============================] - 4s 3ms/step - loss: 0.5771 - accuracy: 0.8148\n",
      "313/313 [==============================] - 1s 3ms/step - loss: 1.2302 - accuracy: 0.5826\n",
      "train error = 18.518000841140747\n",
      "test error = 41.74000024795532\n"
     ]
    }
   ],
   "source": [
    "    #train error\n",
    "    _, train_accuracy = model.evaluate(x_train, y_train)\n",
    "    train_error = (1 - train_accuracy)*100\n",
    "#     y_train_error.append(train_error)\n",
    "    #test_error\n",
    "    _, test_accuracy = model.evaluate(x_test, y_test)\n",
    "    test_error = (1 - test_accuracy)*100\n",
    "#     y_test_error.append(test_error)\n",
    "print('train error = {}\\ntest error = {}'.format(train_error,test_error))"
   ]
  },
  {
   "cell_type": "code",
   "execution_count": null,
   "metadata": {},
   "outputs": [],
   "source": []
  }
 ],
 "metadata": {
  "kernelspec": {
   "display_name": "Python 3",
   "language": "python",
   "name": "python3"
  },
  "language_info": {
   "codemirror_mode": {
    "name": "ipython",
    "version": 3
   },
   "file_extension": ".py",
   "mimetype": "text/x-python",
   "name": "python",
   "nbconvert_exporter": "python",
   "pygments_lexer": "ipython3",
   "version": "3.8.5"
  }
 },
 "nbformat": 4,
 "nbformat_minor": 4
}
