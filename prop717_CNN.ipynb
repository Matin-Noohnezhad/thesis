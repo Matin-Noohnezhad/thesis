{
 "cells": [
  {
   "cell_type": "code",
   "execution_count": 1,
   "metadata": {},
   "outputs": [],
   "source": [
    "import tensorflow as tf\n",
    "from tensorflow.keras import datasets, models\n",
    "from tensorflow.keras.layers import Dense, Conv2D, Flatten, Dropout, MaxPooling2D, BatchNormalization\n",
    "from tensorflow import keras\n",
    "import numpy as np\n",
    "#import os\n",
    "\n",
    "#os.environ[\"CUDA_VISIBLE_DEVICES\"] = \"-1\""
   ]
  },
  {
   "cell_type": "code",
   "execution_count": 2,
   "metadata": {},
   "outputs": [],
   "source": [
    "(x_train, y_train), (x_test, y_test) = datasets.cifar10.load_data()"
   ]
  },
  {
   "cell_type": "code",
   "execution_count": 3,
   "metadata": {},
   "outputs": [],
   "source": [
    "x_train = x_train.astype('float32')\n",
    "x_test = x_test.astype('float32')\n",
    "#x_train /= 255\n",
    "#x_test /= 255\n",
    "mean = np.mean(x_train,axis=(0,1,2,3))\n",
    "std = np.std(x_train,axis=(0,1,2,3))\n",
    "x_train = (x_train-mean)/(std+1e-7)\n",
    "x_test = (x_test-mean)/(std+1e-7)\n"
   ]
  },
  {
   "cell_type": "code",
   "execution_count": 4,
   "metadata": {},
   "outputs": [],
   "source": [
    "y_train = keras.utils.to_categorical(y_train, 10)\n",
    "y_test = keras.utils.to_categorical(y_test, 10)"
   ]
  },
  {
   "cell_type": "code",
   "execution_count": 5,
   "metadata": {},
   "outputs": [],
   "source": [
    "def build(input_shape, no_classes):\n",
    "    model = models.Sequential()\n",
    "    model.add(Conv2D(32, (3,3), padding='same', activation='relu', input_shape=input_shape))\n",
    "    model.add(BatchNormalization())\n",
    "    model.add(Conv2D(32, (3,3), padding='same', activation='relu'))\n",
    "    model.add(BatchNormalization())\n",
    "    model.add(MaxPooling2D((2,2)))\n",
    "    model.add(Dropout(0.3))\n",
    "    ##\n",
    "    model.add(Conv2D(64, (3,3), padding='same', activation='relu'))\n",
    "    model.add(BatchNormalization())\n",
    "    model.add(Conv2D(64, (3,3), padding='same', activation='relu'))\n",
    "    model.add(BatchNormalization())\n",
    "    model.add(MaxPooling2D((2,2)))\n",
    "    model.add(Dropout(0.3))\n",
    "    ##\n",
    "    model.add(Conv2D(128, (3,3), padding='same', activation='relu'))\n",
    "    model.add(BatchNormalization())\n",
    "    model.add(Conv2D(128, (3,3), padding='same', activation='relu'))\n",
    "    model.add(BatchNormalization())\n",
    "    model.add(MaxPooling2D((2,2)))\n",
    "    model.add(Dropout(0.3))\n",
    "    ##\n",
    "    model.add(Conv2D(256, (3,3), padding='same', activation='relu'))\n",
    "    model.add(BatchNormalization())\n",
    "    model.add(Conv2D(256, (3,3), padding='same', activation='relu'))\n",
    "    model.add(BatchNormalization())\n",
    "    model.add(MaxPooling2D((2,2)))\n",
    "    model.add(Dropout(0.3))\n",
    "    ##\n",
    "    model.add(Flatten())\n",
    "    model.add(Dense(512, activation='relu'))\n",
    "    model.add(Dense(no_classes, activation='softmax'))\n",
    "    ##\n",
    "    return model"
   ]
  },
  {
   "cell_type": "code",
   "execution_count": 6,
   "metadata": {},
   "outputs": [],
   "source": [
    "model = build(x_train.shape[1:], 10)"
   ]
  },
  {
   "cell_type": "code",
   "execution_count": 7,
   "metadata": {},
   "outputs": [
    {
     "name": "stdout",
     "output_type": "stream",
     "text": [
      "Model: \"sequential\"\n",
      "_________________________________________________________________\n",
      "Layer (type)                 Output Shape              Param #   \n",
      "=================================================================\n",
      "conv2d (Conv2D)              (None, 32, 32, 32)        896       \n",
      "_________________________________________________________________\n",
      "batch_normalization (BatchNo (None, 32, 32, 32)        128       \n",
      "_________________________________________________________________\n",
      "conv2d_1 (Conv2D)            (None, 32, 32, 32)        9248      \n",
      "_________________________________________________________________\n",
      "batch_normalization_1 (Batch (None, 32, 32, 32)        128       \n",
      "_________________________________________________________________\n",
      "max_pooling2d (MaxPooling2D) (None, 16, 16, 32)        0         \n",
      "_________________________________________________________________\n",
      "dropout (Dropout)            (None, 16, 16, 32)        0         \n",
      "_________________________________________________________________\n",
      "conv2d_2 (Conv2D)            (None, 16, 16, 64)        18496     \n",
      "_________________________________________________________________\n",
      "batch_normalization_2 (Batch (None, 16, 16, 64)        256       \n",
      "_________________________________________________________________\n",
      "conv2d_3 (Conv2D)            (None, 16, 16, 64)        36928     \n",
      "_________________________________________________________________\n",
      "batch_normalization_3 (Batch (None, 16, 16, 64)        256       \n",
      "_________________________________________________________________\n",
      "max_pooling2d_1 (MaxPooling2 (None, 8, 8, 64)          0         \n",
      "_________________________________________________________________\n",
      "dropout_1 (Dropout)          (None, 8, 8, 64)          0         \n",
      "_________________________________________________________________\n",
      "conv2d_4 (Conv2D)            (None, 8, 8, 128)         73856     \n",
      "_________________________________________________________________\n",
      "batch_normalization_4 (Batch (None, 8, 8, 128)         512       \n",
      "_________________________________________________________________\n",
      "conv2d_5 (Conv2D)            (None, 8, 8, 128)         147584    \n",
      "_________________________________________________________________\n",
      "batch_normalization_5 (Batch (None, 8, 8, 128)         512       \n",
      "_________________________________________________________________\n",
      "max_pooling2d_2 (MaxPooling2 (None, 4, 4, 128)         0         \n",
      "_________________________________________________________________\n",
      "dropout_2 (Dropout)          (None, 4, 4, 128)         0         \n",
      "_________________________________________________________________\n",
      "conv2d_6 (Conv2D)            (None, 4, 4, 256)         295168    \n",
      "_________________________________________________________________\n",
      "batch_normalization_6 (Batch (None, 4, 4, 256)         1024      \n",
      "_________________________________________________________________\n",
      "conv2d_7 (Conv2D)            (None, 4, 4, 256)         590080    \n",
      "_________________________________________________________________\n",
      "batch_normalization_7 (Batch (None, 4, 4, 256)         1024      \n",
      "_________________________________________________________________\n",
      "max_pooling2d_3 (MaxPooling2 (None, 2, 2, 256)         0         \n",
      "_________________________________________________________________\n",
      "dropout_3 (Dropout)          (None, 2, 2, 256)         0         \n",
      "_________________________________________________________________\n",
      "flatten (Flatten)            (None, 1024)              0         \n",
      "_________________________________________________________________\n",
      "dense (Dense)                (None, 512)               524800    \n",
      "_________________________________________________________________\n",
      "dense_1 (Dense)              (None, 10)                5130      \n",
      "=================================================================\n",
      "Total params: 1,706,026\n",
      "Trainable params: 1,704,106\n",
      "Non-trainable params: 1,920\n",
      "_________________________________________________________________\n"
     ]
    }
   ],
   "source": [
    "model.summary()"
   ]
  },
  {
   "cell_type": "code",
   "execution_count": 8,
   "metadata": {},
   "outputs": [],
   "source": [
    "model.compile(loss='categorical_crossentropy', optimizer='adam', metrics=['accuracy'])"
   ]
  },
  {
   "cell_type": "code",
   "execution_count": 9,
   "metadata": {},
   "outputs": [],
   "source": [
    "# callbacks=[keras.callbacks.TensorBoard(log_dir='./logs2')]"
   ]
  },
  {
   "cell_type": "code",
   "execution_count": 10,
   "metadata": {},
   "outputs": [
    {
     "name": "stdout",
     "output_type": "stream",
     "text": [
      "Epoch 1/50\n",
      "391/391 [==============================] - 28s 72ms/step - loss: 1.5164 - accuracy: 0.4584 - val_loss: 1.4262 - val_accuracy: 0.4749\n",
      "Epoch 2/50\n",
      "391/391 [==============================] - 26s 67ms/step - loss: 1.0451 - accuracy: 0.6232 - val_loss: 0.9184 - val_accuracy: 0.6776\n",
      "Epoch 3/50\n",
      "391/391 [==============================] - 26s 67ms/step - loss: 0.8435 - accuracy: 0.7008 - val_loss: 0.7524 - val_accuracy: 0.7357\n",
      "Epoch 4/50\n",
      "391/391 [==============================] - 26s 67ms/step - loss: 0.7233 - accuracy: 0.7449 - val_loss: 0.6570 - val_accuracy: 0.7724\n",
      "Epoch 5/50\n",
      "391/391 [==============================] - 26s 67ms/step - loss: 0.6366 - accuracy: 0.7757 - val_loss: 0.6392 - val_accuracy: 0.7776\n",
      "Epoch 6/50\n",
      "391/391 [==============================] - 26s 67ms/step - loss: 0.5739 - accuracy: 0.7982 - val_loss: 0.5767 - val_accuracy: 0.8032\n",
      "Epoch 7/50\n",
      "391/391 [==============================] - 26s 67ms/step - loss: 0.5183 - accuracy: 0.8172 - val_loss: 0.5743 - val_accuracy: 0.8093\n",
      "Epoch 8/50\n",
      "391/391 [==============================] - 26s 67ms/step - loss: 0.4781 - accuracy: 0.8316 - val_loss: 0.5479 - val_accuracy: 0.8189\n",
      "Epoch 9/50\n",
      "391/391 [==============================] - 26s 67ms/step - loss: 0.4389 - accuracy: 0.8453 - val_loss: 0.5375 - val_accuracy: 0.8286\n",
      "Epoch 10/50\n",
      "391/391 [==============================] - 26s 67ms/step - loss: 0.4055 - accuracy: 0.8585 - val_loss: 0.5150 - val_accuracy: 0.8301\n",
      "Epoch 11/50\n",
      "391/391 [==============================] - 26s 67ms/step - loss: 0.3775 - accuracy: 0.8659 - val_loss: 0.5338 - val_accuracy: 0.8252\n",
      "Epoch 12/50\n",
      "391/391 [==============================] - 26s 67ms/step - loss: 0.3459 - accuracy: 0.8769 - val_loss: 0.5301 - val_accuracy: 0.8316\n",
      "Epoch 13/50\n",
      "391/391 [==============================] - 26s 67ms/step - loss: 0.3243 - accuracy: 0.8849 - val_loss: 0.5073 - val_accuracy: 0.8357\n",
      "Epoch 14/50\n",
      "391/391 [==============================] - 26s 67ms/step - loss: 0.3002 - accuracy: 0.8949 - val_loss: 0.5278 - val_accuracy: 0.8362\n",
      "Epoch 15/50\n",
      "391/391 [==============================] - 26s 67ms/step - loss: 0.2786 - accuracy: 0.9018 - val_loss: 0.5199 - val_accuracy: 0.8435\n",
      "Epoch 16/50\n",
      "391/391 [==============================] - 26s 67ms/step - loss: 0.2620 - accuracy: 0.9055 - val_loss: 0.5260 - val_accuracy: 0.8438\n",
      "Epoch 17/50\n",
      "391/391 [==============================] - 26s 67ms/step - loss: 0.2437 - accuracy: 0.9124 - val_loss: 0.5259 - val_accuracy: 0.8463\n",
      "Epoch 18/50\n",
      "391/391 [==============================] - 26s 67ms/step - loss: 0.2331 - accuracy: 0.9169 - val_loss: 0.5246 - val_accuracy: 0.8504\n",
      "Epoch 19/50\n",
      "391/391 [==============================] - 26s 67ms/step - loss: 0.2125 - accuracy: 0.9250 - val_loss: 0.5471 - val_accuracy: 0.8477\n",
      "Epoch 20/50\n",
      "391/391 [==============================] - 26s 67ms/step - loss: 0.2040 - accuracy: 0.9270 - val_loss: 0.5433 - val_accuracy: 0.8476\n",
      "Epoch 21/50\n",
      "391/391 [==============================] - 26s 67ms/step - loss: 0.1979 - accuracy: 0.9291 - val_loss: 0.5317 - val_accuracy: 0.8495\n",
      "Epoch 22/50\n",
      "391/391 [==============================] - 26s 67ms/step - loss: 0.1869 - accuracy: 0.9327 - val_loss: 0.5497 - val_accuracy: 0.8490\n",
      "Epoch 23/50\n",
      "391/391 [==============================] - 26s 67ms/step - loss: 0.1824 - accuracy: 0.9348 - val_loss: 0.5381 - val_accuracy: 0.8538\n",
      "Epoch 24/50\n",
      "391/391 [==============================] - 26s 67ms/step - loss: 0.1710 - accuracy: 0.9381 - val_loss: 0.5566 - val_accuracy: 0.8487\n",
      "Epoch 25/50\n",
      "391/391 [==============================] - 26s 67ms/step - loss: 0.1612 - accuracy: 0.9423 - val_loss: 0.5716 - val_accuracy: 0.8478\n",
      "Epoch 26/50\n",
      "391/391 [==============================] - 26s 67ms/step - loss: 0.1560 - accuracy: 0.9444 - val_loss: 0.5872 - val_accuracy: 0.8423\n",
      "Epoch 27/50\n",
      "391/391 [==============================] - 26s 67ms/step - loss: 0.1465 - accuracy: 0.9480 - val_loss: 0.5602 - val_accuracy: 0.8496\n",
      "Epoch 28/50\n",
      "391/391 [==============================] - 26s 67ms/step - loss: 0.1447 - accuracy: 0.9481 - val_loss: 0.5673 - val_accuracy: 0.8514\n",
      "Epoch 29/50\n",
      "391/391 [==============================] - 26s 67ms/step - loss: 0.1412 - accuracy: 0.9502 - val_loss: 0.5714 - val_accuracy: 0.8580\n",
      "Epoch 30/50\n",
      "391/391 [==============================] - 26s 67ms/step - loss: 0.1402 - accuracy: 0.9505 - val_loss: 0.5894 - val_accuracy: 0.8491\n",
      "Epoch 31/50\n",
      "391/391 [==============================] - 26s 67ms/step - loss: 0.1330 - accuracy: 0.9533 - val_loss: 0.5885 - val_accuracy: 0.8579\n",
      "Epoch 32/50\n",
      "391/391 [==============================] - 26s 67ms/step - loss: 0.1292 - accuracy: 0.9548 - val_loss: 0.5736 - val_accuracy: 0.8590\n",
      "Epoch 33/50\n",
      "391/391 [==============================] - 26s 67ms/step - loss: 0.1240 - accuracy: 0.9556 - val_loss: 0.5956 - val_accuracy: 0.8529\n",
      "Epoch 34/50\n",
      "391/391 [==============================] - 26s 67ms/step - loss: 0.1238 - accuracy: 0.9568 - val_loss: 0.6120 - val_accuracy: 0.8527\n",
      "Epoch 35/50\n",
      "391/391 [==============================] - 26s 67ms/step - loss: 0.1206 - accuracy: 0.9582 - val_loss: 0.6073 - val_accuracy: 0.8508\n",
      "Epoch 36/50\n",
      "391/391 [==============================] - 26s 66ms/step - loss: 0.1147 - accuracy: 0.9601 - val_loss: 0.6139 - val_accuracy: 0.8538\n",
      "Epoch 37/50\n",
      "391/391 [==============================] - 26s 67ms/step - loss: 0.1179 - accuracy: 0.9596 - val_loss: 0.5904 - val_accuracy: 0.8561\n",
      "Epoch 38/50\n",
      "391/391 [==============================] - 26s 67ms/step - loss: 0.1074 - accuracy: 0.9624 - val_loss: 0.6009 - val_accuracy: 0.8536\n",
      "Epoch 39/50\n",
      "391/391 [==============================] - 26s 67ms/step - loss: 0.1079 - accuracy: 0.9627 - val_loss: 0.5850 - val_accuracy: 0.8604\n",
      "Epoch 40/50\n",
      "391/391 [==============================] - 26s 67ms/step - loss: 0.1024 - accuracy: 0.9644 - val_loss: 0.6476 - val_accuracy: 0.8482\n",
      "Epoch 41/50\n",
      "391/391 [==============================] - 26s 67ms/step - loss: 0.1042 - accuracy: 0.9634 - val_loss: 0.6239 - val_accuracy: 0.8526\n",
      "Epoch 42/50\n",
      "391/391 [==============================] - 26s 67ms/step - loss: 0.0993 - accuracy: 0.9652 - val_loss: 0.6082 - val_accuracy: 0.8549\n",
      "Epoch 43/50\n",
      "391/391 [==============================] - 26s 67ms/step - loss: 0.1034 - accuracy: 0.9646 - val_loss: 0.6025 - val_accuracy: 0.8525\n",
      "Epoch 44/50\n",
      "391/391 [==============================] - 26s 67ms/step - loss: 0.0939 - accuracy: 0.9675 - val_loss: 0.6394 - val_accuracy: 0.8569\n",
      "Epoch 45/50\n",
      "391/391 [==============================] - 26s 67ms/step - loss: 0.0921 - accuracy: 0.9687 - val_loss: 0.6322 - val_accuracy: 0.8592\n",
      "Epoch 47/50\n",
      "391/391 [==============================] - 26s 67ms/step - loss: 0.0892 - accuracy: 0.9681 - val_loss: 0.6301 - val_accuracy: 0.8563\n",
      "Epoch 48/50\n",
      "391/391 [==============================] - 26s 67ms/step - loss: 0.0911 - accuracy: 0.9677 - val_loss: 0.6323 - val_accuracy: 0.8567\n",
      "Epoch 49/50\n",
      "391/391 [==============================] - 26s 67ms/step - loss: 0.0851 - accuracy: 0.9709 - val_loss: 0.6264 - val_accuracy: 0.8585\n",
      "Epoch 50/50\n",
      "391/391 [==============================] - 26s 67ms/step - loss: 0.0877 - accuracy: 0.9699 - val_loss: 0.6215 - val_accuracy: 0.8574\n"
     ]
    },
    {
     "data": {
      "text/plain": [
       "<tensorflow.python.keras.callbacks.History at 0x7f8444df30d0>"
      ]
     },
     "execution_count": 10,
     "metadata": {},
     "output_type": "execute_result"
    }
   ],
   "source": [
    "# model.fit(x_train, y_train, batch_size=128, epochs=50, verbose=1, validation_split=0.2, callbacks=callbacks)\n",
    "model.fit(x_train, y_train, batch_size=128, epochs=50, verbose=1, validation_data=(x_test, y_test))"
   ]
  },
  {
   "cell_type": "code",
   "execution_count": 11,
   "metadata": {},
   "outputs": [
    {
     "name": "stdout",
     "output_type": "stream",
     "text": [
      "1563/1563 [==============================] - 11s 7ms/step - loss: 0.0070 - accuracy: 0.9986\n",
      "313/313 [==============================] - 2s 7ms/step - loss: 0.6215 - accuracy: 0.8574\n",
      "train error = 0.1439988613128662\n",
      "test error = 14.259999990463257\n"
     ]
    }
   ],
   "source": [
    "    #train error\n",
    "    _, train_accuracy = model.evaluate(x_train, y_train)\n",
    "    train_error = (1 - train_accuracy)*100\n",
    "#     y_train_error.append(train_error)\n",
    "    #test_error\n",
    "    _, test_accuracy = model.evaluate(x_test, y_test)\n",
    "    test_error = (1 - test_accuracy)*100\n",
    "#     y_test_error.append(test_error)\n",
    "print('train error = {}\\ntest error = {}'.format(train_error,test_error))"
   ]
  },
  {
   "cell_type": "code",
   "execution_count": null,
   "metadata": {},
   "outputs": [],
   "source": []
  }
 ],
 "metadata": {
  "kernelspec": {
   "display_name": "Python 3",
   "language": "python",
   "name": "python3"
  },
  "language_info": {
   "codemirror_mode": {
    "name": "ipython",
    "version": 3
   },
   "file_extension": ".py",
   "mimetype": "text/x-python",
   "name": "python",
   "nbconvert_exporter": "python",
   "pygments_lexer": "ipython3",
   "version": "3.8.5"
  }
 },
 "nbformat": 4,
 "nbformat_minor": 4
}